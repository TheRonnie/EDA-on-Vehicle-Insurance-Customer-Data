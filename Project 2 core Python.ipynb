{
 "cells": [
  {
   "cell_type": "markdown",
   "id": "47fe93ae",
   "metadata": {},
   "source": [
    "# :::::::::::::::::::::::::::::::::  🤩  WELCOME  🤩  :::::::::::::::::::::::::::::::::"
   ]
  },
  {
   "cell_type": "markdown",
   "id": "bd4f679f",
   "metadata": {},
   "source": [
    "A company has customer data that contains 8 columns of customer details and another table having name customer_policy data contains the policy details of the customer. \n",
    "\n",
    "The company intends to offer some discount in premium for certain customers. To do that they ask their Data scientist team to get some information. Hence, following tasks DS team decided to perform:"
   ]
  },
  {
   "cell_type": "markdown",
   "id": "47a0410c",
   "metadata": {},
   "source": [
    "### 1. Add the column names to both datasets:\n",
    "\n",
    "#### i. Column Name for customer details table:\n",
    "\n",
    ">            customer_id, \n",
    "           Gender,\n",
    "           age, \n",
    "           driving licence present,\n",
    "           region code, \n",
    "           previously insured, \n",
    "           vehicle age \n",
    "           and vehicle damage, in respective order. \n",
    "\n",
    "#### ii. Column Name for customer_policy table:\n",
    "\n",
    ">            customer_id, \n",
    "           annual premium (in Rs), \n",
    "           sales channel code, \n",
    "           vintage,\n",
    "           response. "
   ]
  },
  {
   "cell_type": "code",
   "execution_count": 2,
   "id": "d76ab6a4",
   "metadata": {},
   "outputs": [],
   "source": [
    "# Import the files \n",
    "import pandas as pd\n",
    "import numpy as np\n",
    "\n",
    "# Load customer details dataset\n",
    "customer_details = pd.read_csv(\"customer_details.csv\")\n",
    "\n",
    "# Load customer policy details dataset\n",
    "customer_policy = pd.read_csv(\"customer_policy_details.csv\")\n",
    "\n",
    "# add column names to the customer_details data frame \n",
    "customer_details.columns=[\"customer_id\",'Gender','Age','Driving_License','Region_Code','Previously_Insured',\n",
    "                          'Vehicle_Age','Vehicle_Damage']\n",
    "# Set customer_id column as index\n",
    "customer_details.set_index('customer_id', inplace=True)\n",
    "\n",
    "# add column names to the customer_policy data frame\n",
    "customer_policy.columns=['customer_id','Annual_Premium','Policy_Sales_Channel','Vintage','Response']\n",
    "# Set customer_id column as index\n",
    "customer_policy.set_index('customer_id', inplace=True)\n"
   ]
  },
  {
   "cell_type": "code",
   "execution_count": 3,
   "id": "97c41f59",
   "metadata": {
    "scrolled": true
   },
   "outputs": [
    {
     "data": {
      "text/html": [
       "<div>\n",
       "<style scoped>\n",
       "    .dataframe tbody tr th:only-of-type {\n",
       "        vertical-align: middle;\n",
       "    }\n",
       "\n",
       "    .dataframe tbody tr th {\n",
       "        vertical-align: top;\n",
       "    }\n",
       "\n",
       "    .dataframe thead th {\n",
       "        text-align: right;\n",
       "    }\n",
       "</style>\n",
       "<table border=\"1\" class=\"dataframe\">\n",
       "  <thead>\n",
       "    <tr style=\"text-align: right;\">\n",
       "      <th></th>\n",
       "      <th>Gender</th>\n",
       "      <th>Age</th>\n",
       "      <th>Driving_License</th>\n",
       "      <th>Region_Code</th>\n",
       "      <th>Previously_Insured</th>\n",
       "      <th>Vehicle_Age</th>\n",
       "      <th>Vehicle_Damage</th>\n",
       "    </tr>\n",
       "    <tr>\n",
       "      <th>customer_id</th>\n",
       "      <th></th>\n",
       "      <th></th>\n",
       "      <th></th>\n",
       "      <th></th>\n",
       "      <th></th>\n",
       "      <th></th>\n",
       "      <th></th>\n",
       "    </tr>\n",
       "  </thead>\n",
       "  <tbody>\n",
       "    <tr>\n",
       "      <th>1.0</th>\n",
       "      <td>Male</td>\n",
       "      <td>44.0</td>\n",
       "      <td>1.0</td>\n",
       "      <td>28.0</td>\n",
       "      <td>0.0</td>\n",
       "      <td>&gt; 2 Years</td>\n",
       "      <td>Yes</td>\n",
       "    </tr>\n",
       "    <tr>\n",
       "      <th>2.0</th>\n",
       "      <td>Male</td>\n",
       "      <td>76.0</td>\n",
       "      <td>1.0</td>\n",
       "      <td>3.0</td>\n",
       "      <td>0.0</td>\n",
       "      <td>1-2 Year</td>\n",
       "      <td>No</td>\n",
       "    </tr>\n",
       "    <tr>\n",
       "      <th>3.0</th>\n",
       "      <td>Male</td>\n",
       "      <td>47.0</td>\n",
       "      <td>1.0</td>\n",
       "      <td>28.0</td>\n",
       "      <td>0.0</td>\n",
       "      <td>&gt; 2 Years</td>\n",
       "      <td>Yes</td>\n",
       "    </tr>\n",
       "    <tr>\n",
       "      <th>4.0</th>\n",
       "      <td>Male</td>\n",
       "      <td>21.0</td>\n",
       "      <td>1.0</td>\n",
       "      <td>11.0</td>\n",
       "      <td>1.0</td>\n",
       "      <td>&lt; 1 Year</td>\n",
       "      <td>No</td>\n",
       "    </tr>\n",
       "    <tr>\n",
       "      <th>5.0</th>\n",
       "      <td>Female</td>\n",
       "      <td>29.0</td>\n",
       "      <td>1.0</td>\n",
       "      <td>41.0</td>\n",
       "      <td>1.0</td>\n",
       "      <td>&lt; 1 Year</td>\n",
       "      <td>No</td>\n",
       "    </tr>\n",
       "  </tbody>\n",
       "</table>\n",
       "</div>"
      ],
      "text/plain": [
       "             Gender   Age  Driving_License  Region_Code  Previously_Insured  \\\n",
       "customer_id                                                                   \n",
       "1.0            Male  44.0              1.0         28.0                 0.0   \n",
       "2.0            Male  76.0              1.0          3.0                 0.0   \n",
       "3.0            Male  47.0              1.0         28.0                 0.0   \n",
       "4.0            Male  21.0              1.0         11.0                 1.0   \n",
       "5.0          Female  29.0              1.0         41.0                 1.0   \n",
       "\n",
       "            Vehicle_Age Vehicle_Damage  \n",
       "customer_id                             \n",
       "1.0           > 2 Years            Yes  \n",
       "2.0            1-2 Year             No  \n",
       "3.0           > 2 Years            Yes  \n",
       "4.0            < 1 Year             No  \n",
       "5.0            < 1 Year             No  "
      ]
     },
     "execution_count": 3,
     "metadata": {},
     "output_type": "execute_result"
    }
   ],
   "source": [
    "customer_details.head()"
   ]
  },
  {
   "cell_type": "code",
   "execution_count": 4,
   "id": "e543bed5",
   "metadata": {},
   "outputs": [
    {
     "data": {
      "text/html": [
       "<div>\n",
       "<style scoped>\n",
       "    .dataframe tbody tr th:only-of-type {\n",
       "        vertical-align: middle;\n",
       "    }\n",
       "\n",
       "    .dataframe tbody tr th {\n",
       "        vertical-align: top;\n",
       "    }\n",
       "\n",
       "    .dataframe thead th {\n",
       "        text-align: right;\n",
       "    }\n",
       "</style>\n",
       "<table border=\"1\" class=\"dataframe\">\n",
       "  <thead>\n",
       "    <tr style=\"text-align: right;\">\n",
       "      <th></th>\n",
       "      <th>Annual_Premium</th>\n",
       "      <th>Policy_Sales_Channel</th>\n",
       "      <th>Vintage</th>\n",
       "      <th>Response</th>\n",
       "    </tr>\n",
       "    <tr>\n",
       "      <th>customer_id</th>\n",
       "      <th></th>\n",
       "      <th></th>\n",
       "      <th></th>\n",
       "      <th></th>\n",
       "    </tr>\n",
       "  </thead>\n",
       "  <tbody>\n",
       "    <tr>\n",
       "      <th>1.0</th>\n",
       "      <td>40454.0</td>\n",
       "      <td>26.0</td>\n",
       "      <td>217.0</td>\n",
       "      <td>1.0</td>\n",
       "    </tr>\n",
       "    <tr>\n",
       "      <th>2.0</th>\n",
       "      <td>33536.0</td>\n",
       "      <td>26.0</td>\n",
       "      <td>183.0</td>\n",
       "      <td>0.0</td>\n",
       "    </tr>\n",
       "    <tr>\n",
       "      <th>3.0</th>\n",
       "      <td>38294.0</td>\n",
       "      <td>26.0</td>\n",
       "      <td>27.0</td>\n",
       "      <td>1.0</td>\n",
       "    </tr>\n",
       "    <tr>\n",
       "      <th>4.0</th>\n",
       "      <td>28619.0</td>\n",
       "      <td>152.0</td>\n",
       "      <td>203.0</td>\n",
       "      <td>0.0</td>\n",
       "    </tr>\n",
       "    <tr>\n",
       "      <th>5.0</th>\n",
       "      <td>27496.0</td>\n",
       "      <td>152.0</td>\n",
       "      <td>39.0</td>\n",
       "      <td>0.0</td>\n",
       "    </tr>\n",
       "  </tbody>\n",
       "</table>\n",
       "</div>"
      ],
      "text/plain": [
       "             Annual_Premium  Policy_Sales_Channel  Vintage  Response\n",
       "customer_id                                                         \n",
       "1.0                 40454.0                  26.0    217.0       1.0\n",
       "2.0                 33536.0                  26.0    183.0       0.0\n",
       "3.0                 38294.0                  26.0     27.0       1.0\n",
       "4.0                 28619.0                 152.0    203.0       0.0\n",
       "5.0                 27496.0                 152.0     39.0       0.0"
      ]
     },
     "execution_count": 4,
     "metadata": {},
     "output_type": "execute_result"
    }
   ],
   "source": [
    "customer_policy.head()"
   ]
  },
  {
   "cell_type": "markdown",
   "id": "b136f01f",
   "metadata": {},
   "source": [
    "### 2. Checking and Cleaning Data Quality:\n",
    "\n",
    "\n",
    "\n",
    "\n",
    "\n",
    "\n",
    "\n",
    "\n",
    "\n"
   ]
  },
  {
   "cell_type": "markdown",
   "id": "34c5a51b",
   "metadata": {},
   "source": [
    "#### i. Null values\n",
    "\n",
    "Generate a summary of count of all the null values column wise\n",
    "Drop Null values for customer_id because central tendencies for id’s is not feasible.\n",
    "Replace all null values for numeric columns by mean. \n",
    "Replace all null values for Categorical value by mode."
   ]
  },
  {
   "cell_type": "markdown",
   "id": "4ae6ca48",
   "metadata": {},
   "source": [
    "Here is the code to generate the summary:"
   ]
  },
  {
   "cell_type": "code",
   "execution_count": 5,
   "id": "79de0998",
   "metadata": {},
   "outputs": [
    {
     "name": "stdout",
     "output_type": "stream",
     "text": [
      "Gender                368\n",
      "Age                   368\n",
      "Driving_License       393\n",
      "Region_Code           392\n",
      "Previously_Insured    381\n",
      "Vehicle_Age           381\n",
      "Vehicle_Damage        407\n",
      "dtype: int64\n",
      "Annual_Premium          346\n",
      "Policy_Sales_Channel    400\n",
      "Vintage                 388\n",
      "Response                361\n",
      "dtype: int64\n"
     ]
    }
   ],
   "source": [
    "# Check for null values in customer_details dataframe\n",
    "print(customer_details.isnull().sum())\n",
    "\n",
    "# Check for null values in customer_policy dataframe\n",
    "print(customer_policy.isnull().sum())\n"
   ]
  },
  {
   "cell_type": "markdown",
   "id": "67de51f1",
   "metadata": {},
   "source": [
    "Next, to drop null values for customer_id, we can use the dropna() function in Pandas:"
   ]
  },
  {
   "cell_type": "code",
   "execution_count": null,
   "id": "431d0d35",
   "metadata": {},
   "outputs": [],
   "source": []
  },
  {
   "cell_type": "code",
   "execution_count": 13,
   "id": "b26d1ca5",
   "metadata": {},
   "outputs": [],
   "source": [
    "# Drop null values for all columns except customer_id\n",
    "customer_details.dropna(subset=customer_details.columns[1:], inplace=True)\n",
    "customer_policy.dropna(subset=customer_policy.columns[1:], inplace=True)\n"
   ]
  },
  {
   "cell_type": "markdown",
   "id": "ba840f66",
   "metadata": {},
   "source": [
    "To replace null values for numeric columns by mean, we can use the fillna() function in Pandas:"
   ]
  },
  {
   "cell_type": "code",
   "execution_count": 14,
   "id": "ed81d470",
   "metadata": {},
   "outputs": [],
   "source": [
    "# Replace all null values for numeric columns by mean\n",
    "customer_details.fillna(customer_details.mean(numeric_only=True), inplace=True)\n",
    "\n",
    "# Replace all null values for categorical columns by mode\n",
    "customer_details = customer_details.apply(lambda x: x.fillna(x.mode()[0]))\n",
    "\n",
    "# Replace null values for numeric columns by mean\n",
    "customer_policy.fillna(customer_policy.mean(), inplace=True)"
   ]
  },
  {
   "cell_type": "code",
   "execution_count": 15,
   "id": "29a873e8",
   "metadata": {},
   "outputs": [
    {
     "name": "stdout",
     "output_type": "stream",
     "text": [
      "Gender                0\n",
      "Age                   0\n",
      "Driving_License       0\n",
      "Region_Code           0\n",
      "Previously_Insured    0\n",
      "Vehicle_Age           0\n",
      "Vehicle_Damage        0\n",
      "dtype: int64\n",
      "Annual_Premium          0\n",
      "Policy_Sales_Channel    0\n",
      "Vintage                 0\n",
      "Response                0\n",
      "dtype: int64\n"
     ]
    }
   ],
   "source": [
    "# Check for null values in customer_details dataframe\n",
    "print(customer_details.isnull().sum())\n",
    "\n",
    "# Check for null values in customer_policy dataframe\n",
    "print(customer_policy.isnull().sum())"
   ]
  },
  {
   "cell_type": "markdown",
   "id": "1222f653",
   "metadata": {},
   "source": [
    "Finally, to replace null values for categorical values by mode, we can use the fillna() function in Pandas:"
   ]
  },
  {
   "cell_type": "code",
   "execution_count": 16,
   "id": "0e7a2bf2",
   "metadata": {},
   "outputs": [],
   "source": [
    "# Replace null values for categorical values by mode\n",
    "customer_details = customer_details.apply(lambda x:x.fillna(x.value_counts().index[0]))\n",
    "customer_policy = customer_policy.apply(lambda x:x.fillna(x.value_counts().index[0]))\n"
   ]
  },
  {
   "cell_type": "markdown",
   "id": "4736e457",
   "metadata": {},
   "source": [
    "#### ii. Outliers\n",
    "\n",
    "Generate a summary of count of all the outliers column wise\n",
    "Replace all outlier values for numeric columns by mean. \n",
    "(Hint1: for outlier treatment use IQR method as follows:\n",
    "\n",
    "For example: for a column X calculate Q1 = 25th percentile and Q3 = 75th percentile then IQR = Q3 – Q1 ) then to check outlier, anything lower than a Q1 – 1.5IQR or greater than Q3 + 1.5 IQR would be an outlier\n",
    "\n",
    "Hint2: For getting percentile value, explore pd.describe() function)"
   ]
  },
  {
   "cell_type": "code",
   "execution_count": 36,
   "id": "b1d29590",
   "metadata": {},
   "outputs": [
    {
     "name": "stdout",
     "output_type": "stream",
     "text": [
      "Column Age has 0 outliers.\n",
      "Column Driving_License has 917 outliers.\n",
      "Column Region_Code has 0 outliers.\n",
      "Column Previously_Insured has 0 outliers.\n",
      "Column female has 0 outliers.\n",
      "Column male has 0 outliers.\n"
     ]
    }
   ],
   "source": [
    "import numpy as np\n",
    "\n",
    "# Find outliers and replace with mean\n",
    "for col in customer_details.select_dtypes(include=np.number).columns:\n",
    "    Q1 = customer_details[col].describe()['25%']\n",
    "    Q3 = customer_details[col].describe()['75%']\n",
    "    IQR = Q3 - Q1\n",
    "    lower_bound = Q1 - 1.5*IQR\n",
    "    upper_bound = Q3 + 1.5*IQR\n",
    "    outlier_count = len(customer_details[(customer_details[col] < lower_bound) | (customer_details[col] > upper_bound)])\n",
    "    print(f\"Column {col} has {outlier_count} outliers.\")\n",
    "    customer_details[col] = np.where((customer_details[col] < lower_bound) | (customer_details[col] > upper_bound), customer_details[col].mean(), customer_details[col])\n",
    "    "
   ]
  },
  {
   "cell_type": "markdown",
   "id": "727f1fe3",
   "metadata": {},
   "source": [
    "#### iii. White spaces\n",
    "\n",
    "Remove white spaces"
   ]
  },
  {
   "cell_type": "code",
   "execution_count": 19,
   "id": "80b62578",
   "metadata": {},
   "outputs": [],
   "source": [
    "customer_details = customer_details.apply(lambda x: x.str.strip() if x.dtype == \"object\" else x)\n",
    "customer_policy = customer_policy.apply(lambda x: x.str.strip() if x.dtype == \"object\" else x)\n"
   ]
  },
  {
   "cell_type": "markdown",
   "id": "76609d6a",
   "metadata": {},
   "source": [
    "#### iv. case correction(lower or upper, any one) "
   ]
  },
  {
   "cell_type": "code",
   "execution_count": 20,
   "id": "bb13216e",
   "metadata": {},
   "outputs": [],
   "source": [
    "customer_details['Gender'] = customer_details['Gender'].str.lower()\n"
   ]
  },
  {
   "cell_type": "code",
   "execution_count": 21,
   "id": "c693fbc5",
   "metadata": {},
   "outputs": [
    {
     "data": {
      "text/html": [
       "<div>\n",
       "<style scoped>\n",
       "    .dataframe tbody tr th:only-of-type {\n",
       "        vertical-align: middle;\n",
       "    }\n",
       "\n",
       "    .dataframe tbody tr th {\n",
       "        vertical-align: top;\n",
       "    }\n",
       "\n",
       "    .dataframe thead th {\n",
       "        text-align: right;\n",
       "    }\n",
       "</style>\n",
       "<table border=\"1\" class=\"dataframe\">\n",
       "  <thead>\n",
       "    <tr style=\"text-align: right;\">\n",
       "      <th></th>\n",
       "      <th>Gender</th>\n",
       "      <th>Age</th>\n",
       "      <th>Driving_License</th>\n",
       "      <th>Region_Code</th>\n",
       "      <th>Previously_Insured</th>\n",
       "      <th>Vehicle_Age</th>\n",
       "      <th>Vehicle_Damage</th>\n",
       "    </tr>\n",
       "    <tr>\n",
       "      <th>customer_id</th>\n",
       "      <th></th>\n",
       "      <th></th>\n",
       "      <th></th>\n",
       "      <th></th>\n",
       "      <th></th>\n",
       "      <th></th>\n",
       "      <th></th>\n",
       "    </tr>\n",
       "  </thead>\n",
       "  <tbody>\n",
       "    <tr>\n",
       "      <th>1.0</th>\n",
       "      <td>male</td>\n",
       "      <td>44.0</td>\n",
       "      <td>1.0</td>\n",
       "      <td>28.0</td>\n",
       "      <td>0.0</td>\n",
       "      <td>&gt; 2 Years</td>\n",
       "      <td>Yes</td>\n",
       "    </tr>\n",
       "    <tr>\n",
       "      <th>2.0</th>\n",
       "      <td>male</td>\n",
       "      <td>76.0</td>\n",
       "      <td>1.0</td>\n",
       "      <td>3.0</td>\n",
       "      <td>0.0</td>\n",
       "      <td>1-2 Year</td>\n",
       "      <td>No</td>\n",
       "    </tr>\n",
       "    <tr>\n",
       "      <th>3.0</th>\n",
       "      <td>male</td>\n",
       "      <td>47.0</td>\n",
       "      <td>1.0</td>\n",
       "      <td>28.0</td>\n",
       "      <td>0.0</td>\n",
       "      <td>&gt; 2 Years</td>\n",
       "      <td>Yes</td>\n",
       "    </tr>\n",
       "    <tr>\n",
       "      <th>4.0</th>\n",
       "      <td>male</td>\n",
       "      <td>21.0</td>\n",
       "      <td>1.0</td>\n",
       "      <td>11.0</td>\n",
       "      <td>1.0</td>\n",
       "      <td>&lt; 1 Year</td>\n",
       "      <td>No</td>\n",
       "    </tr>\n",
       "    <tr>\n",
       "      <th>5.0</th>\n",
       "      <td>female</td>\n",
       "      <td>29.0</td>\n",
       "      <td>1.0</td>\n",
       "      <td>41.0</td>\n",
       "      <td>1.0</td>\n",
       "      <td>&lt; 1 Year</td>\n",
       "      <td>No</td>\n",
       "    </tr>\n",
       "  </tbody>\n",
       "</table>\n",
       "</div>"
      ],
      "text/plain": [
       "             Gender   Age  Driving_License  Region_Code  Previously_Insured  \\\n",
       "customer_id                                                                   \n",
       "1.0            male  44.0              1.0         28.0                 0.0   \n",
       "2.0            male  76.0              1.0          3.0                 0.0   \n",
       "3.0            male  47.0              1.0         28.0                 0.0   \n",
       "4.0            male  21.0              1.0         11.0                 1.0   \n",
       "5.0          female  29.0              1.0         41.0                 1.0   \n",
       "\n",
       "            Vehicle_Age Vehicle_Damage  \n",
       "customer_id                             \n",
       "1.0           > 2 Years            Yes  \n",
       "2.0            1-2 Year             No  \n",
       "3.0           > 2 Years            Yes  \n",
       "4.0            < 1 Year             No  \n",
       "5.0            < 1 Year             No  "
      ]
     },
     "execution_count": 21,
     "metadata": {},
     "output_type": "execute_result"
    }
   ],
   "source": [
    "customer_details.head()"
   ]
  },
  {
   "cell_type": "markdown",
   "id": "93a00409",
   "metadata": {},
   "source": [
    "#### v. Convert nominal data (categorical) into dummies \n",
    "\n",
    "for future modeling use if required"
   ]
  },
  {
   "cell_type": "code",
   "execution_count": 22,
   "id": "58c6fa8e",
   "metadata": {},
   "outputs": [],
   "source": [
    "dummies = pd.get_dummies(customer_details['Gender'])\n",
    "customer_details = pd.concat([customer_details, dummies], axis=1)\n"
   ]
  },
  {
   "cell_type": "code",
   "execution_count": 23,
   "id": "6cb67a2e",
   "metadata": {},
   "outputs": [
    {
     "data": {
      "text/html": [
       "<div>\n",
       "<style scoped>\n",
       "    .dataframe tbody tr th:only-of-type {\n",
       "        vertical-align: middle;\n",
       "    }\n",
       "\n",
       "    .dataframe tbody tr th {\n",
       "        vertical-align: top;\n",
       "    }\n",
       "\n",
       "    .dataframe thead th {\n",
       "        text-align: right;\n",
       "    }\n",
       "</style>\n",
       "<table border=\"1\" class=\"dataframe\">\n",
       "  <thead>\n",
       "    <tr style=\"text-align: right;\">\n",
       "      <th></th>\n",
       "      <th>Gender</th>\n",
       "      <th>Age</th>\n",
       "      <th>Driving_License</th>\n",
       "      <th>Region_Code</th>\n",
       "      <th>Previously_Insured</th>\n",
       "      <th>Vehicle_Age</th>\n",
       "      <th>Vehicle_Damage</th>\n",
       "      <th>female</th>\n",
       "      <th>male</th>\n",
       "    </tr>\n",
       "    <tr>\n",
       "      <th>customer_id</th>\n",
       "      <th></th>\n",
       "      <th></th>\n",
       "      <th></th>\n",
       "      <th></th>\n",
       "      <th></th>\n",
       "      <th></th>\n",
       "      <th></th>\n",
       "      <th></th>\n",
       "      <th></th>\n",
       "    </tr>\n",
       "  </thead>\n",
       "  <tbody>\n",
       "    <tr>\n",
       "      <th>1.0</th>\n",
       "      <td>male</td>\n",
       "      <td>44.0</td>\n",
       "      <td>1.0</td>\n",
       "      <td>28.0</td>\n",
       "      <td>0.0</td>\n",
       "      <td>&gt; 2 Years</td>\n",
       "      <td>Yes</td>\n",
       "      <td>0</td>\n",
       "      <td>1</td>\n",
       "    </tr>\n",
       "    <tr>\n",
       "      <th>2.0</th>\n",
       "      <td>male</td>\n",
       "      <td>76.0</td>\n",
       "      <td>1.0</td>\n",
       "      <td>3.0</td>\n",
       "      <td>0.0</td>\n",
       "      <td>1-2 Year</td>\n",
       "      <td>No</td>\n",
       "      <td>0</td>\n",
       "      <td>1</td>\n",
       "    </tr>\n",
       "    <tr>\n",
       "      <th>3.0</th>\n",
       "      <td>male</td>\n",
       "      <td>47.0</td>\n",
       "      <td>1.0</td>\n",
       "      <td>28.0</td>\n",
       "      <td>0.0</td>\n",
       "      <td>&gt; 2 Years</td>\n",
       "      <td>Yes</td>\n",
       "      <td>0</td>\n",
       "      <td>1</td>\n",
       "    </tr>\n",
       "    <tr>\n",
       "      <th>4.0</th>\n",
       "      <td>male</td>\n",
       "      <td>21.0</td>\n",
       "      <td>1.0</td>\n",
       "      <td>11.0</td>\n",
       "      <td>1.0</td>\n",
       "      <td>&lt; 1 Year</td>\n",
       "      <td>No</td>\n",
       "      <td>0</td>\n",
       "      <td>1</td>\n",
       "    </tr>\n",
       "    <tr>\n",
       "      <th>5.0</th>\n",
       "      <td>female</td>\n",
       "      <td>29.0</td>\n",
       "      <td>1.0</td>\n",
       "      <td>41.0</td>\n",
       "      <td>1.0</td>\n",
       "      <td>&lt; 1 Year</td>\n",
       "      <td>No</td>\n",
       "      <td>1</td>\n",
       "      <td>0</td>\n",
       "    </tr>\n",
       "  </tbody>\n",
       "</table>\n",
       "</div>"
      ],
      "text/plain": [
       "             Gender   Age  Driving_License  Region_Code  Previously_Insured  \\\n",
       "customer_id                                                                   \n",
       "1.0            male  44.0              1.0         28.0                 0.0   \n",
       "2.0            male  76.0              1.0          3.0                 0.0   \n",
       "3.0            male  47.0              1.0         28.0                 0.0   \n",
       "4.0            male  21.0              1.0         11.0                 1.0   \n",
       "5.0          female  29.0              1.0         41.0                 1.0   \n",
       "\n",
       "            Vehicle_Age Vehicle_Damage  female  male  \n",
       "customer_id                                           \n",
       "1.0           > 2 Years            Yes       0     1  \n",
       "2.0            1-2 Year             No       0     1  \n",
       "3.0           > 2 Years            Yes       0     1  \n",
       "4.0            < 1 Year             No       0     1  \n",
       "5.0            < 1 Year             No       1     0  "
      ]
     },
     "execution_count": 23,
     "metadata": {},
     "output_type": "execute_result"
    }
   ],
   "source": [
    "customer_details.head()"
   ]
  },
  {
   "cell_type": "markdown",
   "id": "e649bbbc",
   "metadata": {},
   "source": [
    "#### vi. Drop Duplicates (duplicated rows)"
   ]
  },
  {
   "cell_type": "code",
   "execution_count": 24,
   "id": "a362dfad",
   "metadata": {},
   "outputs": [],
   "source": [
    "customer_details.drop_duplicates(inplace=True)\n",
    "customer_policy.drop_duplicates(inplace=True)\n"
   ]
  },
  {
   "cell_type": "code",
   "execution_count": 25,
   "id": "3e01e58e",
   "metadata": {},
   "outputs": [
    {
     "data": {
      "text/html": [
       "<div>\n",
       "<style scoped>\n",
       "    .dataframe tbody tr th:only-of-type {\n",
       "        vertical-align: middle;\n",
       "    }\n",
       "\n",
       "    .dataframe tbody tr th {\n",
       "        vertical-align: top;\n",
       "    }\n",
       "\n",
       "    .dataframe thead th {\n",
       "        text-align: right;\n",
       "    }\n",
       "</style>\n",
       "<table border=\"1\" class=\"dataframe\">\n",
       "  <thead>\n",
       "    <tr style=\"text-align: right;\">\n",
       "      <th></th>\n",
       "      <th>Gender</th>\n",
       "      <th>Age</th>\n",
       "      <th>Driving_License</th>\n",
       "      <th>Region_Code</th>\n",
       "      <th>Previously_Insured</th>\n",
       "      <th>Vehicle_Age</th>\n",
       "      <th>Vehicle_Damage</th>\n",
       "      <th>female</th>\n",
       "      <th>male</th>\n",
       "    </tr>\n",
       "    <tr>\n",
       "      <th>customer_id</th>\n",
       "      <th></th>\n",
       "      <th></th>\n",
       "      <th></th>\n",
       "      <th></th>\n",
       "      <th></th>\n",
       "      <th></th>\n",
       "      <th></th>\n",
       "      <th></th>\n",
       "      <th></th>\n",
       "    </tr>\n",
       "  </thead>\n",
       "  <tbody>\n",
       "    <tr>\n",
       "      <th>1.0</th>\n",
       "      <td>male</td>\n",
       "      <td>44.0</td>\n",
       "      <td>1.0</td>\n",
       "      <td>28.0</td>\n",
       "      <td>0.0</td>\n",
       "      <td>&gt; 2 Years</td>\n",
       "      <td>Yes</td>\n",
       "      <td>0</td>\n",
       "      <td>1</td>\n",
       "    </tr>\n",
       "    <tr>\n",
       "      <th>2.0</th>\n",
       "      <td>male</td>\n",
       "      <td>76.0</td>\n",
       "      <td>1.0</td>\n",
       "      <td>3.0</td>\n",
       "      <td>0.0</td>\n",
       "      <td>1-2 Year</td>\n",
       "      <td>No</td>\n",
       "      <td>0</td>\n",
       "      <td>1</td>\n",
       "    </tr>\n",
       "    <tr>\n",
       "      <th>3.0</th>\n",
       "      <td>male</td>\n",
       "      <td>47.0</td>\n",
       "      <td>1.0</td>\n",
       "      <td>28.0</td>\n",
       "      <td>0.0</td>\n",
       "      <td>&gt; 2 Years</td>\n",
       "      <td>Yes</td>\n",
       "      <td>0</td>\n",
       "      <td>1</td>\n",
       "    </tr>\n",
       "    <tr>\n",
       "      <th>4.0</th>\n",
       "      <td>male</td>\n",
       "      <td>21.0</td>\n",
       "      <td>1.0</td>\n",
       "      <td>11.0</td>\n",
       "      <td>1.0</td>\n",
       "      <td>&lt; 1 Year</td>\n",
       "      <td>No</td>\n",
       "      <td>0</td>\n",
       "      <td>1</td>\n",
       "    </tr>\n",
       "    <tr>\n",
       "      <th>5.0</th>\n",
       "      <td>female</td>\n",
       "      <td>29.0</td>\n",
       "      <td>1.0</td>\n",
       "      <td>41.0</td>\n",
       "      <td>1.0</td>\n",
       "      <td>&lt; 1 Year</td>\n",
       "      <td>No</td>\n",
       "      <td>1</td>\n",
       "      <td>0</td>\n",
       "    </tr>\n",
       "  </tbody>\n",
       "</table>\n",
       "</div>"
      ],
      "text/plain": [
       "             Gender   Age  Driving_License  Region_Code  Previously_Insured  \\\n",
       "customer_id                                                                   \n",
       "1.0            male  44.0              1.0         28.0                 0.0   \n",
       "2.0            male  76.0              1.0          3.0                 0.0   \n",
       "3.0            male  47.0              1.0         28.0                 0.0   \n",
       "4.0            male  21.0              1.0         11.0                 1.0   \n",
       "5.0          female  29.0              1.0         41.0                 1.0   \n",
       "\n",
       "            Vehicle_Age Vehicle_Damage  female  male  \n",
       "customer_id                                           \n",
       "1.0           > 2 Years            Yes       0     1  \n",
       "2.0            1-2 Year             No       0     1  \n",
       "3.0           > 2 Years            Yes       0     1  \n",
       "4.0            < 1 Year             No       0     1  \n",
       "5.0            < 1 Year             No       1     0  "
      ]
     },
     "execution_count": 25,
     "metadata": {},
     "output_type": "execute_result"
    }
   ],
   "source": [
    "customer_details.head()"
   ]
  },
  {
   "cell_type": "markdown",
   "id": "1cfa6823",
   "metadata": {},
   "source": [
    "### 3. Create a Master table for future use. Join the customer table and customer_policy table to get a master table using customer_id in both tables.\n",
    "\n",
    "(Hint: use pd.merge() function)"
   ]
  },
  {
   "cell_type": "code",
   "execution_count": 26,
   "id": "61dc6b9f",
   "metadata": {},
   "outputs": [],
   "source": [
    "\n",
    "master_table = pd.merge(customer_details, customer_policy, on='customer_id')\n"
   ]
  },
  {
   "cell_type": "code",
   "execution_count": 27,
   "id": "1e277c76",
   "metadata": {},
   "outputs": [
    {
     "data": {
      "text/html": [
       "<div>\n",
       "<style scoped>\n",
       "    .dataframe tbody tr th:only-of-type {\n",
       "        vertical-align: middle;\n",
       "    }\n",
       "\n",
       "    .dataframe tbody tr th {\n",
       "        vertical-align: top;\n",
       "    }\n",
       "\n",
       "    .dataframe thead th {\n",
       "        text-align: right;\n",
       "    }\n",
       "</style>\n",
       "<table border=\"1\" class=\"dataframe\">\n",
       "  <thead>\n",
       "    <tr style=\"text-align: right;\">\n",
       "      <th></th>\n",
       "      <th>Gender</th>\n",
       "      <th>Age</th>\n",
       "      <th>Driving_License</th>\n",
       "      <th>Region_Code</th>\n",
       "      <th>Previously_Insured</th>\n",
       "      <th>Vehicle_Age</th>\n",
       "      <th>Vehicle_Damage</th>\n",
       "      <th>female</th>\n",
       "      <th>male</th>\n",
       "      <th>Annual_Premium</th>\n",
       "      <th>Policy_Sales_Channel</th>\n",
       "      <th>Vintage</th>\n",
       "      <th>Response</th>\n",
       "    </tr>\n",
       "    <tr>\n",
       "      <th>customer_id</th>\n",
       "      <th></th>\n",
       "      <th></th>\n",
       "      <th></th>\n",
       "      <th></th>\n",
       "      <th></th>\n",
       "      <th></th>\n",
       "      <th></th>\n",
       "      <th></th>\n",
       "      <th></th>\n",
       "      <th></th>\n",
       "      <th></th>\n",
       "      <th></th>\n",
       "      <th></th>\n",
       "    </tr>\n",
       "  </thead>\n",
       "  <tbody>\n",
       "    <tr>\n",
       "      <th>1.0</th>\n",
       "      <td>male</td>\n",
       "      <td>44.0</td>\n",
       "      <td>1.0</td>\n",
       "      <td>28.0</td>\n",
       "      <td>0.0</td>\n",
       "      <td>&gt; 2 Years</td>\n",
       "      <td>Yes</td>\n",
       "      <td>0</td>\n",
       "      <td>1</td>\n",
       "      <td>40454.0</td>\n",
       "      <td>26.0</td>\n",
       "      <td>217.0</td>\n",
       "      <td>1.0</td>\n",
       "    </tr>\n",
       "    <tr>\n",
       "      <th>2.0</th>\n",
       "      <td>male</td>\n",
       "      <td>76.0</td>\n",
       "      <td>1.0</td>\n",
       "      <td>3.0</td>\n",
       "      <td>0.0</td>\n",
       "      <td>1-2 Year</td>\n",
       "      <td>No</td>\n",
       "      <td>0</td>\n",
       "      <td>1</td>\n",
       "      <td>33536.0</td>\n",
       "      <td>26.0</td>\n",
       "      <td>183.0</td>\n",
       "      <td>0.0</td>\n",
       "    </tr>\n",
       "    <tr>\n",
       "      <th>3.0</th>\n",
       "      <td>male</td>\n",
       "      <td>47.0</td>\n",
       "      <td>1.0</td>\n",
       "      <td>28.0</td>\n",
       "      <td>0.0</td>\n",
       "      <td>&gt; 2 Years</td>\n",
       "      <td>Yes</td>\n",
       "      <td>0</td>\n",
       "      <td>1</td>\n",
       "      <td>38294.0</td>\n",
       "      <td>26.0</td>\n",
       "      <td>27.0</td>\n",
       "      <td>1.0</td>\n",
       "    </tr>\n",
       "    <tr>\n",
       "      <th>4.0</th>\n",
       "      <td>male</td>\n",
       "      <td>21.0</td>\n",
       "      <td>1.0</td>\n",
       "      <td>11.0</td>\n",
       "      <td>1.0</td>\n",
       "      <td>&lt; 1 Year</td>\n",
       "      <td>No</td>\n",
       "      <td>0</td>\n",
       "      <td>1</td>\n",
       "      <td>28619.0</td>\n",
       "      <td>152.0</td>\n",
       "      <td>203.0</td>\n",
       "      <td>0.0</td>\n",
       "    </tr>\n",
       "    <tr>\n",
       "      <th>5.0</th>\n",
       "      <td>female</td>\n",
       "      <td>29.0</td>\n",
       "      <td>1.0</td>\n",
       "      <td>41.0</td>\n",
       "      <td>1.0</td>\n",
       "      <td>&lt; 1 Year</td>\n",
       "      <td>No</td>\n",
       "      <td>1</td>\n",
       "      <td>0</td>\n",
       "      <td>27496.0</td>\n",
       "      <td>152.0</td>\n",
       "      <td>39.0</td>\n",
       "      <td>0.0</td>\n",
       "    </tr>\n",
       "  </tbody>\n",
       "</table>\n",
       "</div>"
      ],
      "text/plain": [
       "             Gender   Age  Driving_License  Region_Code  Previously_Insured  \\\n",
       "customer_id                                                                   \n",
       "1.0            male  44.0              1.0         28.0                 0.0   \n",
       "2.0            male  76.0              1.0          3.0                 0.0   \n",
       "3.0            male  47.0              1.0         28.0                 0.0   \n",
       "4.0            male  21.0              1.0         11.0                 1.0   \n",
       "5.0          female  29.0              1.0         41.0                 1.0   \n",
       "\n",
       "            Vehicle_Age Vehicle_Damage  female  male  Annual_Premium  \\\n",
       "customer_id                                                            \n",
       "1.0           > 2 Years            Yes       0     1         40454.0   \n",
       "2.0            1-2 Year             No       0     1         33536.0   \n",
       "3.0           > 2 Years            Yes       0     1         38294.0   \n",
       "4.0            < 1 Year             No       0     1         28619.0   \n",
       "5.0            < 1 Year             No       1     0         27496.0   \n",
       "\n",
       "             Policy_Sales_Channel  Vintage  Response  \n",
       "customer_id                                           \n",
       "1.0                          26.0    217.0       1.0  \n",
       "2.0                          26.0    183.0       0.0  \n",
       "3.0                          26.0     27.0       1.0  \n",
       "4.0                         152.0    203.0       0.0  \n",
       "5.0                         152.0     39.0       0.0  "
      ]
     },
     "execution_count": 27,
     "metadata": {},
     "output_type": "execute_result"
    }
   ],
   "source": [
    "master_table.head()"
   ]
  },
  {
   "cell_type": "markdown",
   "id": "643ff081",
   "metadata": {},
   "source": [
    "### 4. Company needs some important information from the master table to make decisions for future growth.They needs following information:"
   ]
  },
  {
   "cell_type": "markdown",
   "id": "21dff0e3",
   "metadata": {},
   "source": [
    "#### i. Gender wise average annual premium"
   ]
  },
  {
   "cell_type": "code",
   "execution_count": 28,
   "id": "f841c209",
   "metadata": {},
   "outputs": [
    {
     "name": "stdout",
     "output_type": "stream",
     "text": [
      "Gender\n",
      "female    31428.397458\n",
      "male      32531.925040\n",
      "Name: Annual_Premium, dtype: float64\n"
     ]
    }
   ],
   "source": [
    "gender_avg_premium = master_table.groupby('Gender')['Annual_Premium'].mean()\n",
    "print(gender_avg_premium)\n"
   ]
  },
  {
   "cell_type": "markdown",
   "id": "8c26d7b3",
   "metadata": {},
   "source": [
    "#### ii. Age wise average annual premium\n"
   ]
  },
  {
   "cell_type": "code",
   "execution_count": 29,
   "id": "1c25f589",
   "metadata": {},
   "outputs": [
    {
     "name": "stdout",
     "output_type": "stream",
     "text": [
      "Age\n",
      "20.0    31686.266512\n",
      "21.0    29002.078775\n",
      "22.0    30445.759740\n",
      "23.0    30203.965021\n",
      "24.0    32338.763314\n",
      "            ...     \n",
      "81.0    36054.080000\n",
      "82.0    38753.500000\n",
      "83.0    37347.416667\n",
      "84.0    43314.125000\n",
      "85.0    38397.285714\n",
      "Name: Annual_Premium, Length: 67, dtype: float64\n"
     ]
    }
   ],
   "source": [
    "age_avg_premium = master_table.groupby('Age')['Annual_Premium'].mean()\n",
    "print(age_avg_premium)\n"
   ]
  },
  {
   "cell_type": "markdown",
   "id": "1ce36571",
   "metadata": {},
   "source": [
    "\n",
    "#### iii. Is your data balanced between the genders?\n",
    "\n",
    "          (Hint: Data is balanced if number of counts in each group is approximately same)"
   ]
  },
  {
   "cell_type": "code",
   "execution_count": 30,
   "id": "4230a086",
   "metadata": {},
   "outputs": [
    {
     "name": "stdout",
     "output_type": "stream",
     "text": [
      "male      14219\n",
      "female    11946\n",
      "Name: Gender, dtype: int64\n"
     ]
    }
   ],
   "source": [
    "gender_counts = customer_details['Gender'].value_counts()\n",
    "print(gender_counts)\n"
   ]
  },
  {
   "cell_type": "code",
   "execution_count": 31,
   "id": "e2253d4a",
   "metadata": {},
   "outputs": [
    {
     "name": "stdout",
     "output_type": "stream",
     "text": [
      "male      54.343589\n",
      "female    45.656411\n",
      "Name: Gender, dtype: float64\n"
     ]
    }
   ],
   "source": [
    "gender_percentages = gender_counts / len(customer_details) * 100\n",
    "print(gender_percentages)\n",
    "\n"
   ]
  },
  {
   "cell_type": "markdown",
   "id": "c9fd5b52",
   "metadata": {},
   "source": [
    "#### iv. Vehicle age wise average annual premium."
   ]
  },
  {
   "cell_type": "code",
   "execution_count": 32,
   "id": "63d08b4a",
   "metadata": {
    "scrolled": true
   },
   "outputs": [
    {
     "data": {
      "text/html": [
       "<div>\n",
       "<style scoped>\n",
       "    .dataframe tbody tr th:only-of-type {\n",
       "        vertical-align: middle;\n",
       "    }\n",
       "\n",
       "    .dataframe tbody tr th {\n",
       "        vertical-align: top;\n",
       "    }\n",
       "\n",
       "    .dataframe thead th {\n",
       "        text-align: right;\n",
       "    }\n",
       "</style>\n",
       "<table border=\"1\" class=\"dataframe\">\n",
       "  <thead>\n",
       "    <tr style=\"text-align: right;\">\n",
       "      <th></th>\n",
       "      <th>Gender</th>\n",
       "      <th>Age</th>\n",
       "      <th>Driving_License</th>\n",
       "      <th>Region_Code</th>\n",
       "      <th>Previously_Insured</th>\n",
       "      <th>Vehicle_Age</th>\n",
       "      <th>Vehicle_Damage</th>\n",
       "      <th>female</th>\n",
       "      <th>male</th>\n",
       "      <th>Annual_Premium</th>\n",
       "      <th>Policy_Sales_Channel</th>\n",
       "      <th>Vintage</th>\n",
       "      <th>Response</th>\n",
       "    </tr>\n",
       "    <tr>\n",
       "      <th>customer_id</th>\n",
       "      <th></th>\n",
       "      <th></th>\n",
       "      <th></th>\n",
       "      <th></th>\n",
       "      <th></th>\n",
       "      <th></th>\n",
       "      <th></th>\n",
       "      <th></th>\n",
       "      <th></th>\n",
       "      <th></th>\n",
       "      <th></th>\n",
       "      <th></th>\n",
       "      <th></th>\n",
       "    </tr>\n",
       "  </thead>\n",
       "  <tbody>\n",
       "    <tr>\n",
       "      <th>1.0</th>\n",
       "      <td>male</td>\n",
       "      <td>44.0</td>\n",
       "      <td>1.0</td>\n",
       "      <td>28.0</td>\n",
       "      <td>0.0</td>\n",
       "      <td>&gt; 2 Years</td>\n",
       "      <td>Yes</td>\n",
       "      <td>0</td>\n",
       "      <td>1</td>\n",
       "      <td>40454.0</td>\n",
       "      <td>26.0</td>\n",
       "      <td>217.0</td>\n",
       "      <td>1.0</td>\n",
       "    </tr>\n",
       "    <tr>\n",
       "      <th>2.0</th>\n",
       "      <td>male</td>\n",
       "      <td>76.0</td>\n",
       "      <td>1.0</td>\n",
       "      <td>3.0</td>\n",
       "      <td>0.0</td>\n",
       "      <td>1-2 Year</td>\n",
       "      <td>No</td>\n",
       "      <td>0</td>\n",
       "      <td>1</td>\n",
       "      <td>33536.0</td>\n",
       "      <td>26.0</td>\n",
       "      <td>183.0</td>\n",
       "      <td>0.0</td>\n",
       "    </tr>\n",
       "    <tr>\n",
       "      <th>3.0</th>\n",
       "      <td>male</td>\n",
       "      <td>47.0</td>\n",
       "      <td>1.0</td>\n",
       "      <td>28.0</td>\n",
       "      <td>0.0</td>\n",
       "      <td>&gt; 2 Years</td>\n",
       "      <td>Yes</td>\n",
       "      <td>0</td>\n",
       "      <td>1</td>\n",
       "      <td>38294.0</td>\n",
       "      <td>26.0</td>\n",
       "      <td>27.0</td>\n",
       "      <td>1.0</td>\n",
       "    </tr>\n",
       "    <tr>\n",
       "      <th>4.0</th>\n",
       "      <td>male</td>\n",
       "      <td>21.0</td>\n",
       "      <td>1.0</td>\n",
       "      <td>11.0</td>\n",
       "      <td>1.0</td>\n",
       "      <td>&lt; 1 Year</td>\n",
       "      <td>No</td>\n",
       "      <td>0</td>\n",
       "      <td>1</td>\n",
       "      <td>28619.0</td>\n",
       "      <td>152.0</td>\n",
       "      <td>203.0</td>\n",
       "      <td>0.0</td>\n",
       "    </tr>\n",
       "    <tr>\n",
       "      <th>5.0</th>\n",
       "      <td>female</td>\n",
       "      <td>29.0</td>\n",
       "      <td>1.0</td>\n",
       "      <td>41.0</td>\n",
       "      <td>1.0</td>\n",
       "      <td>&lt; 1 Year</td>\n",
       "      <td>No</td>\n",
       "      <td>1</td>\n",
       "      <td>0</td>\n",
       "      <td>27496.0</td>\n",
       "      <td>152.0</td>\n",
       "      <td>39.0</td>\n",
       "      <td>0.0</td>\n",
       "    </tr>\n",
       "  </tbody>\n",
       "</table>\n",
       "</div>"
      ],
      "text/plain": [
       "             Gender   Age  Driving_License  Region_Code  Previously_Insured  \\\n",
       "customer_id                                                                   \n",
       "1.0            male  44.0              1.0         28.0                 0.0   \n",
       "2.0            male  76.0              1.0          3.0                 0.0   \n",
       "3.0            male  47.0              1.0         28.0                 0.0   \n",
       "4.0            male  21.0              1.0         11.0                 1.0   \n",
       "5.0          female  29.0              1.0         41.0                 1.0   \n",
       "\n",
       "            Vehicle_Age Vehicle_Damage  female  male  Annual_Premium  \\\n",
       "customer_id                                                            \n",
       "1.0           > 2 Years            Yes       0     1         40454.0   \n",
       "2.0            1-2 Year             No       0     1         33536.0   \n",
       "3.0           > 2 Years            Yes       0     1         38294.0   \n",
       "4.0            < 1 Year             No       0     1         28619.0   \n",
       "5.0            < 1 Year             No       1     0         27496.0   \n",
       "\n",
       "             Policy_Sales_Channel  Vintage  Response  \n",
       "customer_id                                           \n",
       "1.0                          26.0    217.0       1.0  \n",
       "2.0                          26.0    183.0       0.0  \n",
       "3.0                          26.0     27.0       1.0  \n",
       "4.0                         152.0    203.0       0.0  \n",
       "5.0                         152.0     39.0       0.0  "
      ]
     },
     "execution_count": 32,
     "metadata": {},
     "output_type": "execute_result"
    }
   ],
   "source": [
    "master_table.head()"
   ]
  },
  {
   "cell_type": "code",
   "execution_count": 33,
   "id": "ff5845d5",
   "metadata": {},
   "outputs": [
    {
     "name": "stdout",
     "output_type": "stream",
     "text": [
      "Vehicle_Age\n",
      "1-2 Year     31873.274383\n",
      "< 1 Year     31672.376059\n",
      "> 2 Years    34487.168970\n",
      "Name: Annual_Premium, dtype: float64\n"
     ]
    }
   ],
   "source": [
    "vehicle_age_avg_premium = master_table.groupby('Vehicle_Age')['Annual_Premium'].mean()\n",
    "print(vehicle_age_avg_premium)\n"
   ]
  },
  {
   "cell_type": "markdown",
   "id": "90260b24",
   "metadata": {},
   "source": [
    "### 5. Is there any relation between Person Age and annual premium?\n",
    "\n",
    "Hint: use correlation function (Correlation describes the relationship between two variables). \n",
    "\n",
    "Correlation coefficient < -0.5           - Strong negative relationship\n",
    "\n",
    "Correlation coefficient > 0.5            -  Strong positive relationship\n",
    "\n",
    "-0.5 < Correlation coefficient < 0.5   - There is no relationship. "
   ]
  },
  {
   "cell_type": "code",
   "execution_count": 34,
   "id": "da012afc",
   "metadata": {},
   "outputs": [
    {
     "name": "stdout",
     "output_type": "stream",
     "text": [
      "Relation between Person Age and annual premium:  0.07073913643116346\n",
      "-0.5 < Correlation coefficient < 0.5 - There is no relationship.\n"
     ]
    }
   ],
   "source": [
    "correlation = master_table['Age'].corr(master_table['Annual_Premium'])\n",
    "print(\"Relation between Person Age and annual premium: \",correlation)\n",
    "print(\"-0.5 < Correlation coefficient < 0.5 - There is no relationship.\")\n"
   ]
  },
  {
   "cell_type": "markdown",
   "id": "1edd2ae5",
   "metadata": {},
   "source": [
    "#  ::::::::::::::::::::::::::::::::: 🥳  THANK YOU 🥳  :::::::::::::::::::::::::::::::::\n"
   ]
  }
 ],
 "metadata": {
  "kernelspec": {
   "display_name": "Python 3 (ipykernel)",
   "language": "python",
   "name": "python3"
  },
  "language_info": {
   "codemirror_mode": {
    "name": "ipython",
    "version": 3
   },
   "file_extension": ".py",
   "mimetype": "text/x-python",
   "name": "python",
   "nbconvert_exporter": "python",
   "pygments_lexer": "ipython3",
   "version": "3.10.9"
  }
 },
 "nbformat": 4,
 "nbformat_minor": 5
}
